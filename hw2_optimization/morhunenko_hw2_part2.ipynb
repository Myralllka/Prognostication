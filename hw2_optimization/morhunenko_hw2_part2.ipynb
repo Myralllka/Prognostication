{
 "cells": [
  {
   "cell_type": "code",
   "execution_count": null,
   "metadata": {},
   "outputs": [],
   "source": [
    "import numpy as np\n",
    "import pandas as pd\n",
    "import matplotlib.pyplot as plt\n",
    "from scipy.optimize import curve_fit, minimize\n",
    "\n",
    "plt.rcParams['figure.figsize'] = 15, 8"
   ]
  },
  {
   "cell_type": "code",
   "execution_count": null,
   "metadata": {},
   "outputs": [],
   "source": [
    "data = pd.read_csv('out.csv', encoding='ISO-8859-1')"
   ]
  },
  {
   "cell_type": "code",
   "execution_count": null,
   "metadata": {},
   "outputs": [],
   "source": [
    "plt.plot(data[\"yhat\"])"
   ]
  },
  {
   "cell_type": "code",
   "execution_count": null,
   "metadata": {},
   "outputs": [],
   "source": [
    "def inventory(x):\n",
    "    a = 0.2\n",
    "    return 250 * np.log(x + 5)\n",
    "inv_level = np.linspace(0, 100, 100)\n",
    "plt.plot(inv_level, inventory(inv_level))"
   ]
  },
  {
   "cell_type": "code",
   "execution_count": null,
   "metadata": {},
   "outputs": [],
   "source": [
    "a = min(data[\"yhat\"]) #min forecast\n",
    "b = max(data[\"yhat\"]) #max forecast\n",
    "\n",
    "def elasticity_func(x):\n",
    "    return b * np.exp(-0.26 * x) * 1e11 + a\n",
    "\n",
    "pricing_level = np.linspace(100, 120, 100)\n",
    "plt.plot(pricing_level, elasticity_func(pricing_level))"
   ]
  },
  {
   "cell_type": "markdown",
   "metadata": {},
   "source": [
    "### So our initial prices (I checked for 100, 110, 120, it works very good for all of them)"
   ]
  },
  {
   "cell_type": "code",
   "execution_count": null,
   "metadata": {},
   "outputs": [],
   "source": [
    "x0 = [120. for _ in range(12)]"
   ]
  },
  {
   "cell_type": "code",
   "execution_count": null,
   "metadata": {},
   "outputs": [],
   "source": [
    "production = data[\"yhat\"]"
   ]
  },
  {
   "cell_type": "markdown",
   "metadata": {},
   "source": [
    "### bounds (from task description)"
   ]
  },
  {
   "cell_type": "code",
   "execution_count": null,
   "metadata": {},
   "outputs": [],
   "source": [
    "bnds = [(100, 120) for _ in range(12)]"
   ]
  },
  {
   "cell_type": "code",
   "execution_count": null,
   "metadata": {},
   "outputs": [],
   "source": [
    "def profit(prod, to_sell):    \n",
    "    to_store = prod - to_sell\n",
    "    inventory(to_store)\n",
    "    if to_store >= 0:\n",
    "        return - elasticity_func(to_sell) * to_sell + inventory(to_store) * to_store\n",
    "    else:\n",
    "        return -1"
   ]
  },
  {
   "cell_type": "markdown",
   "metadata": {},
   "source": [
    "### objective function (for minimization) and sales function (for comparison of the results)"
   ]
  },
  {
   "cell_type": "code",
   "execution_count": null,
   "metadata": {},
   "outputs": [],
   "source": [
    "def objective(x, prod):\n",
    "    return -sum(profit(prod[i], x[i]) for i in range(len(x)))\n",
    "\n",
    "def sales_function(x):\n",
    "    return sum([elasticity_func(i) for i in x])"
   ]
  },
  {
   "cell_type": "code",
   "execution_count": null,
   "metadata": {},
   "outputs": [],
   "source": [
    "def constraint(x):\n",
    "    return [sum(production[:i] - elasticity_func(x[:i])) for i in range(12)]\n",
    "\n",
    "cons = {'type':'ineq', 'fun':constraint}"
   ]
  },
  {
   "cell_type": "markdown",
   "metadata": {},
   "source": [
    "### the randomly chosen prices"
   ]
  },
  {
   "cell_type": "code",
   "execution_count": null,
   "metadata": {},
   "outputs": [],
   "source": [
    "print('Initial Objective (Revenue): ' + str(-objective(x0, production)))\n",
    "print('Initial Sales: ' + str(sales_function(x0)))"
   ]
  },
  {
   "cell_type": "code",
   "execution_count": null,
   "metadata": {},
   "outputs": [],
   "source": [
    "minim = minimize(objective, x0, production, method='SLSQP', bounds=bnds, constraints=cons,options={'maxiter': 100, 'ftol': 1e-06, 'iprint': 1, 'disp': True, 'eps': 1.4901161193847656e-08})"
   ]
  },
  {
   "cell_type": "code",
   "execution_count": null,
   "metadata": {},
   "outputs": [],
   "source": [
    "minim"
   ]
  },
  {
   "cell_type": "markdown",
   "metadata": {},
   "source": [
    "### So we have a **success**!"
   ]
  },
  {
   "cell_type": "code",
   "execution_count": null,
   "metadata": {},
   "outputs": [],
   "source": [
    "print('Final Objective (Revenue): ' + str(-objective(minim.x, production)))\n",
    "print('Final Sales: ' + str(sales_function(minim.x)))"
   ]
  }
 ],
 "metadata": {
  "kernelspec": {
   "display_name": "Python 3",
   "language": "python",
   "name": "python3"
  },
  "language_info": {
   "codemirror_mode": {
    "name": "ipython",
    "version": 3
   },
   "file_extension": ".py",
   "mimetype": "text/x-python",
   "name": "python",
   "nbconvert_exporter": "python",
   "pygments_lexer": "ipython3",
   "version": "3.8.6"
  }
 },
 "nbformat": 4,
 "nbformat_minor": 4
}
