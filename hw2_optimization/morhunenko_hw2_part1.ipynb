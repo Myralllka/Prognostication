{
 "cells": [
  {
   "cell_type": "markdown",
   "metadata": {},
   "source": [
    "# Morhunenko Mykola. Homework 2."
   ]
  },
  {
   "cell_type": "code",
   "execution_count": null,
   "metadata": {},
   "outputs": [],
   "source": [
    "import numpy as np\n",
    "import pandas as pd\n",
    "import matplotlib\n",
    "import sys\n",
    "import warnings\n",
    "import matplotlib.pyplot as plt\n",
    "from datetime import datetime\n",
    "from matplotlib import rcParams\n",
    "from scipy.optimize import linprog\n",
    "\n",
    "%matplotlib inline\n",
    "matplotlib.rcParams['figure.dpi']= 100\n",
    "matplotlib.rcParams['figure.figsize'] = 15, 5"
   ]
  },
  {
   "cell_type": "code",
   "execution_count": null,
   "metadata": {},
   "outputs": [],
   "source": [
    "data = pd.read_csv('out.csv', encoding='ISO-8859-1')"
   ]
  },
  {
   "cell_type": "code",
   "execution_count": null,
   "metadata": {},
   "outputs": [],
   "source": [
    "# Planing horizont\n",
    "h = 12\n",
    "# Prediction\n",
    "goal = [i for i in data[\"yhat\"]]\n",
    "plt.plot(goal)"
   ]
  },
  {
   "cell_type": "markdown",
   "metadata": {},
   "source": [
    "#### number fo months per person"
   ]
  },
  {
   "cell_type": "code",
   "execution_count": null,
   "metadata": {},
   "outputs": [],
   "source": [
    "avail = [3, 4, 7, 5]"
   ]
  },
  {
   "cell_type": "markdown",
   "metadata": {},
   "source": [
    "#### Corresponding prices per wach person can be calculated on the sheet of paper"
   ]
  },
  {
   "cell_type": "code",
   "execution_count": null,
   "metadata": {},
   "outputs": [],
   "source": [
    "cost = [3300, 4040, 6740, 5200] "
   ]
  },
  {
   "cell_type": "code",
   "execution_count": null,
   "metadata": {},
   "outputs": [],
   "source": [
    "vec_min = np.array([i for i in cost for _ in range(h)])"
   ]
  },
  {
   "cell_type": "code",
   "execution_count": null,
   "metadata": {},
   "outputs": [],
   "source": [
    "A_full = np.empty((h, h * len(avail)), dtype=np.int64)\n",
    "for n, m in enumerate(avail):\n",
    "    A_temp = np.zeros((h, h), dtype=np.int64)\n",
    "    for i in range(h):\n",
    "        for j in range(max(0, i-m+1), min(i+1, h)):\n",
    "            A_temp[i, j] = 1\n",
    "    A_full[:, h * n: h * (n+1)] = A_temp\n",
    "A_con = A_full[:h, :]"
   ]
  },
  {
   "cell_type": "code",
   "execution_count": null,
   "metadata": {},
   "outputs": [],
   "source": [
    "#### Optimizer\n",
    "c = vec_min\n",
    "b = - np.array(goal)\n",
    "A = - A_con\n",
    "\n",
    "res = linprog(c, A, b)\n",
    "print(res)"
   ]
  },
  {
   "cell_type": "markdown",
   "metadata": {},
   "source": [
    "As far as for each tonna we have to hire one person, the results and plan must be devided on two."
   ]
  },
  {
   "cell_type": "code",
   "execution_count": null,
   "metadata": {},
   "outputs": [],
   "source": [
    "opt = np.asmatrix(np.ceil(res.x))\n",
    "plan = opt.reshape((len(avail), -1)).transpose()\n",
    "result = np.asmatrix(A_con) * np.asmatrix(opt).transpose() \n",
    "result //= 2\n",
    "plan /= 2\n",
    "print(plan)\n",
    "print(result)"
   ]
  },
  {
   "cell_type": "code",
   "execution_count": null,
   "metadata": {},
   "outputs": [],
   "source": [
    "plt.plot(goal)\n",
    "plt.plot(result)"
   ]
  }
 ],
 "metadata": {
  "kernelspec": {
   "display_name": "Python 3",
   "language": "python",
   "name": "python3"
  },
  "language_info": {
   "codemirror_mode": {
    "name": "ipython",
    "version": 3
   },
   "file_extension": ".py",
   "mimetype": "text/x-python",
   "name": "python",
   "nbconvert_exporter": "python",
   "pygments_lexer": "ipython3",
   "version": "3.8.6"
  }
 },
 "nbformat": 4,
 "nbformat_minor": 4
}
