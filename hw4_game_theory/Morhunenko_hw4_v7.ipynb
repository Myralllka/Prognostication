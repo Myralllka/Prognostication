{
 "cells": [
  {
   "cell_type": "markdown",
   "metadata": {},
   "source": [
    "# Morhunenko Mykola hw4"
   ]
  },
  {
   "cell_type": "markdown",
   "metadata": {},
   "source": [
    "## Task 1\n",
    "- What are strictly dominant strategies?\n",
    "- What are dominant strategies?\n",
    "- What are maxmin/minmax strategies?\n",
    "- Nash equilibrium?\n",
    "- Stackelberg equilibrium for first/second player?\n"
   ]
  },
  {
   "cell_type": "markdown",
   "metadata": {},
   "source": [
    "#### 1.1"
   ]
  },
  {
   "cell_type": "markdown",
   "metadata": {},
   "source": [
    "$ A = \\begin{pmatrix}\n",
    "(3, 4) & (4, 1) & (3, 2)\\\\\n",
    "(2, 3) & (3, 7) & (5, 3)\\\\\n",
    "(1, 8) & (2, 3) & (4, 3)\n",
    "\\end{pmatrix}$"
   ]
  },
  {
   "cell_type": "markdown",
   "metadata": {},
   "source": [
    "Solution:"
   ]
  },
  {
   "cell_type": "markdown",
   "metadata": {},
   "source": [
    "1) $Row_2 > Row_3$, so for all strategies for player 1 he won't take the third.\n",
    "$\\begin{pmatrix}\n",
    "(3, 4) & (4, 1) & (3, 2)\\\\\n",
    "(2, 3) & (3, 7) & (5, 3)\n",
    "\\end{pmatrix}$ <br><br>\n",
    "But we can not define the strictly dominated strategy because there are no strict unequations more"
   ]
  },
  {
   "cell_type": "markdown",
   "metadata": {},
   "source": [
    "2) In this case we have to find week dominant strategie<br><br>\n",
    "$\\begin{pmatrix}\n",
    "(3, 4) & (4, 1) & (3, 2)\\\\\n",
    "(2, 3) & (3, 7) & (5, 3)\n",
    "\\end{pmatrix}$ <br><br>\n",
    "$Col_1 \\geq Col_3$ <br><br>\n",
    "$\\begin{pmatrix}\n",
    "(3, 4) & (4, 1)\\\\\n",
    "(2, 3) & (3, 7)\n",
    "\\end{pmatrix}$ <br><br>\n",
    "$Row_1 \\geq Row_2$ <br><br>\n",
    "$\\begin{pmatrix}\n",
    "(3, 4) & (4, 1)\\\\\n",
    "(2, 3) & (3, 7)\n",
    "\\end{pmatrix}$ <br><br>\n",
    "$Col_1 \\geq Col_2$ <br><br>\n",
    "$\\begin{pmatrix}\n",
    "(3, 4) & (4, 1)\n",
    "\\end{pmatrix}$ <br><br>\n",
    "\n",
    "So the result is (3, 4)\n",
    "\n",
    "A(1, 1) - equilibrium in dominant strategies\n"
   ]
  },
  {
   "cell_type": "markdown",
   "metadata": {},
   "source": [
    "3) maxmin strategy, best of the worst<br><br>\n",
    "lets player 1 chose maximin strategy, and player 2 - minimax\n",
    "<!-- underscore the minimum entry for each strategy for each player:<br><br> -->\n",
    "$\\begin{pmatrix}\n",
    "(\\underline{3}, 4) & (4, \\underline{1}) & (\\underline{3}, \\underline{2})\\\\\n",
    "(\\underline{2}, \\underline{3}) & (3, 7) & (5, 3)\\\\\n",
    "(\\underline{1}, 8) & (2, 3) & (4, 3)\n",
    "\\end{pmatrix}$\n",
    "\n",
    "So for the first the best of the worst strategies is 1, and for second player it is also 1"
   ]
  },
  {
   "cell_type": "markdown",
   "metadata": {},
   "source": [
    "4) start form A(1, 1), we have to find the entry that for both players it is impossible to find better strategy if other player won't change his strategy. That means we are looking for the entry $I$, such as $I[0]$ is the max in a Col, and $I[1]$ is max in a row. $A(1, 1)$ is such entry, and there is no such cells."
   ]
  },
  {
   "cell_type": "markdown",
   "metadata": {},
   "source": [
    "5) \n",
    "First player is a leader: <br>\n",
    "(1, 1)<br>\n",
    "Second player is a leader:<br>\n",
    "(1, 1)<br>\n",
    "So the Stackelberg equilibrium for both first and second players are (1, 1)"
   ]
  },
  {
   "cell_type": "markdown",
   "metadata": {},
   "source": [
    "#### 1.2"
   ]
  },
  {
   "cell_type": "markdown",
   "metadata": {},
   "source": [
    "$A = \\begin{pmatrix}\n",
    "(0, 4) & (1, 2) & (1, 4) & (0, 2) & (2, 1) & (3, 4)\\\\\n",
    "(1, 0) & (2, 1) & (4, 2) & (4, 3) & (0, 1) & (3, 1)\\\\\n",
    "(4, 0) & (0, 2) & (4, 3) & (2, 3) & (4, 3) & (0, 1)\\\\\n",
    "(3, 2) & (0, 1) & (4, 0) & (4, 0) & (1, 0) & (0, 4)\\\\\n",
    "(1, 3) & (2, 3) & (1, 1) & (3, 0) & (4, 0) & (1, 3)\n",
    "\\end{pmatrix}$"
   ]
  },
  {
   "cell_type": "markdown",
   "metadata": {},
   "source": [
    "1) There is no strictly dominant strategies"
   ]
  },
  {
   "cell_type": "markdown",
   "metadata": {},
   "source": [
    "2)\n",
    "$Col_4 \\geq Col_5$ <br><br>\n",
    "$\\begin{pmatrix}\n",
    "(0, 4) & (1, 2) & (1, 4) & (0, 2) & (3, 4)\\\\\n",
    "(1, 0) & (2, 1) & (4, 2) & (4, 3) & (3, 1)\\\\\n",
    "(4, 0) & (0, 2) & (4, 3) & (2, 3) & (0, 1)\\\\\n",
    "(3, 2) & (0, 1) & (4, 0) & (4, 0) & (0, 4)\\\\\n",
    "(1, 3) & (2, 3) & (1, 1) & (3, 0) & (1, 3)\n",
    "\\end{pmatrix}\n",
    "$ <br><br>\n",
    "\n",
    "$Col_5 \\geq Col_1$ <br><br>\n",
    "$\\begin{pmatrix}\n",
    "(1, 2) & (1, 4) & (0, 2) & (3, 4)\\\\\n",
    "(2, 1) & (4, 2) & (4, 3) & (3, 1)\\\\\n",
    "(0, 2) & (4, 3) & (2, 3) & (0, 1)\\\\\n",
    "(0, 1) & (4, 0) & (4, 0) & (0, 4)\\\\\n",
    "(2, 3) & (1, 1) & (3, 0) & (1, 3)\n",
    "\\end{pmatrix}\n",
    "$ <br><br>\n",
    "\n",
    "$Row_4 \\geq Row_3$ <br><br>\n",
    "$\\begin{pmatrix}\n",
    "(1, 2) & (1, 4) & (0, 2) & (3, 4)\\\\\n",
    "(2, 1) & (4, 2) & (4, 3) & (3, 1)\\\\\n",
    "(0, 1) & (4, 0) & (4, 0) & (0, 4)\\\\\n",
    "(2, 3) & (1, 1) & (3, 0) & (1, 3)\n",
    "\\end{pmatrix}\n",
    "$ <br><br>\n",
    "\n",
    "$Row_2 \\geq Row_3$ <br><br>\n",
    "$\\begin{pmatrix}\n",
    "(1, 2) & (1, 4) & (0, 2) & (3, 4)\\\\\n",
    "(2, 1) & (4, 2) & (4, 3) & (3, 1)\\\\\n",
    "(2, 3) & (1, 1) & (3, 0) & (1, 3)\n",
    "\\end{pmatrix}\n",
    "$ <br><br>\n",
    "\n",
    "$Col_4 \\geq Col_1$ <br><br>\n",
    "$\\begin{pmatrix}\n",
    "(1, 4) & (0, 2) & (3, 4)\\\\\n",
    "(4, 2) & (4, 3) & (3, 1)\\\\\n",
    "(1, 1) & (3, 0) & (1, 3)\n",
    "\\end{pmatrix}\n",
    "$ <br><br>\n",
    "\n",
    "$Row_2 \\geq Row_3$ <br><br>\n",
    "$\\begin{pmatrix}\n",
    "(1, 4) & (0, 2) & (3, 4)\\\\\n",
    "(4, 2) & (4, 3) & (3, 1)\n",
    "\\end{pmatrix}\n",
    "$ <br><br>\n",
    "\n",
    "$Col_1 \\geq Col_3$ <br><br>\n",
    "$\\begin{pmatrix}\n",
    "(1, 4) & (0, 2)\\\\\n",
    "(4, 2) & (4, 3)\n",
    "\\end{pmatrix}\n",
    "$ <br><br>\n",
    "\n",
    "$Row_2 \\geq Row_1$ <br><br>\n",
    "$\\begin{pmatrix}\n",
    "(4, 2) & (4, 3)\n",
    "\\end{pmatrix}\n",
    "$ <br><br>\n",
    "\n",
    "$Col_2 \\geq Col_1$ <br><br>\n",
    "$\\begin{pmatrix}\n",
    "(4, 3)\n",
    "\\end{pmatrix}\n",
    "$ <br><br>\n",
    "\n",
    "So A(2, 4) - equilibrium in dominant strategies"
   ]
  },
  {
   "cell_type": "markdown",
   "metadata": {},
   "source": [
    "3) Underline the minimum in every entry for every player<br><br>\n",
    "$\\begin{pmatrix}\n",
    "(\\underline{0}, 4) & (1, 2) & (1, 4) & (\\underline{0}, 2) & (2, 1) & (3, 4)\\\\\n",
    "(1, \\underline{0}) & (2, \\underline{1}) & (4, 2) & (4, 3) & (\\underline{0}, 1) & (3, \\underline{1})\\\\\n",
    "(4, \\underline{0}) & (\\underline{0}, 2) & (4, 3) & (2, 3) & (4, 3) & (\\underline{0}, \\underline{1})\\\\\n",
    "(3, 2) & (\\underline{0}, \\underline{1}) & (4, \\underline{0}) & (4, \\underline{0}) & (1, \\underline{0}) & (\\underline{0}, 4)\\\\\n",
    "(\\underline{1}, 3) & (2, 3) & (\\underline{1}, 1) & (3, \\underline{0}) & (4, \\underline{0}) & (\\underline{1}, 3)\n",
    "\\end{pmatrix}$<br><br>\n",
    "So for player 2(rows) the best of the worst is the fifth strategy, for player 1(columns) they are the second and the sixth"
   ]
  },
  {
   "cell_type": "markdown",
   "metadata": {},
   "source": [
    "4) Let's underline in each row and column max entries. The entrie with both numbers underlined will be Nash equilibrium. <br><br>\n",
    "$\\begin{pmatrix}\n",
    "(0, \\underline{4}) & (1, 2) & (1, \\underline{4}) & (0, 2) & (2, 1) & (\\underline{3}, \\underline{4})\\\\\n",
    "(1, 0) & (\\underline{2}, 1) & (\\underline{4}, 2) & (\\underline{4}, \\underline{3}) & (0, 1) & (\\underline{3}, 1)\\\\\n",
    "(\\underline{4}, 0) & (0, 2) & (\\underline{4}, \\underline{3}) & (2, \\underline{3}) & (\\underline{4}, \\underline{3}) & (0, 1)\\\\\n",
    "(3, 2) & (0, 1) & (\\underline{4}, 0) & (\\underline{4}, 0) & (1, 0) & (0, \\underline{4})\\\\\n",
    "(1, \\underline{3}) & (\\underline{2}, \\underline{3}) & (1, 1) & (3, 0) & (\\underline{4}, 0) & (1, \\underline{3})\n",
    "\\end{pmatrix}$<br><br>\n",
    "So A(1, 6), A(2, 4), A(3, 3), A(3, 5), A(5, 2) are Nash equilibriums"
   ]
  },
  {
   "cell_type": "markdown",
   "metadata": {},
   "source": [
    "5) \n",
    "$\\begin{pmatrix}\n",
    "(0, 4) & (1, 2) & (1, 4) & (0, 2) & (2, 1) & (3, 4)\\\\\n",
    "(1, 0) & (2, 1) & (4, 2) & (4, 3) & (0, 1) & (3, 1)\\\\\n",
    "(4, 0) & (0, 2) & (4, 3) & (2, 3) & (4, 3) & (0, 1)\\\\\n",
    "(3, 2) & (0, 1) & (4, 0) & (4, 0) & (1, 0) & (0, 4)\\\\\n",
    "(1, 3) & (2, 3) & (1, 1) & (3, 0) & (4, 0) & (1, 3)\n",
    "\\end{pmatrix}$<br><br>\n",
    "\n",
    "If first (column) player starts, he will analize the situation:<br><br>\n",
    "He must maximize his profit by choosing one of all strategies<br><br>\n",
    "\n",
    "if he choose first strategy, the second player will chose third, his (column player) profit is 0<br>\n",
    "if he choose second strategy, the second player will chose second or fifth, his profit is 0 or 3<br>\n",
    "if he choose third strategy, the second player will chose second, third or fourt, his profit is 2 or 3 or 0<br>\n",
    "if he choose fourth strategy, the second player will chose second or fourth, his profit is 3 or 0<br>\n",
    "if he choose fifth strategy, the second player will chose third or fifth, his profit is 0 or 3<br>\n",
    "if he choose sixth strategy, the second player will chose first or second, his profit is 4 or 1<br><br>\n",
    "\n",
    "If second (row) player starts, he will analize the situation:<br><br>\n",
    "He must maximize his profit by choosing one of all strategies<br><br>\n",
    "\n",
    "if he choose first strategy, the second player will chose first, third or sixth, his (row player) profit is 0, 1 or 3<br>\n",
    "if he choose second strategy, the second player will chose fourth, his profit is 4<br>\n",
    "if he choose third strategy, the second player will chose third, fourth or fifth, his profit is 4 or 2<br>\n",
    "if he choose fourth strategy, the second player will chose sixth, his profit is 0<br>\n",
    "if he choose fifth strategy, the second player will chose first, second or sixth, his profit is 1 or 2<br><br>\n",
    "\n",
    "So the conclusion:\n",
    "If the first player starts, the Stackelberg equilibrium will be A(1, 6) or A(2, 6)\n",
    "If the second player starts, the Stackelberg equilibrium will be A(2, 4), A(3, 3), A(3, 4), A(3, 5)\n",
    "\n"
   ]
  },
  {
   "cell_type": "markdown",
   "metadata": {},
   "source": [
    "1.3 Nash equliibrium in mixed strategies "
   ]
  },
  {
   "cell_type": "markdown",
   "metadata": {},
   "source": [
    "$A = \\begin{pmatrix}\n",
    "(4,3) & (5,1) & (6,2)\\\\\n",
    "(2,1) & (8,4) & (3,6)\\\\\n",
    "(3,0) & (9,6) & (2,8)\\\\\n",
    "\\end{pmatrix}$\n"
   ]
  },
  {
   "cell_type": "markdown",
   "metadata": {},
   "source": [
    "Variant(1)\n",
    "\n",
    "for a row player - let me introduce $p_1, p_2, p_3 = 1-p_1-p_2$ as probabilities of choice each strategy. Than we can get followint equality system by pairwise substructions of next eq <br><br>\n",
    "\n",
    "$4p_1+2p_2+3(1 - p_1 - p_2) = 5p_1+8p_2+9(1 - p_1 - p_2) = 6p_1+3p_2+2(1 - p_1 - p_2)$\n",
    "\n",
    "$\\begin{cases} \n",
    "p_1+6p_2+6 - 6p_1 - 6p_2 = 0 \\\\ \n",
    "2p_1+p_2-1 + p_1 + p_2 = 0 \\\\ \n",
    "p_1+p_2+p_3 = 1  \n",
    "\\end{cases}$\n",
    "\n",
    "$\\begin{cases} \n",
    "p_1 = 1.2 \\\\ \n",
    "p_2 = -1.3 \\\\ \n",
    "p_3 = 1.1\n",
    "\\end{cases}$\n",
    "\n",
    "\n",
    "for a column player - let me introduce $q_1, q_2, q_3 = 1-q_1-q_2$ as probabilities of choice each strategy. Than we can get followint equality system by pairwise substructions of next eq <br><br>\n",
    "\n",
    "$3q_1+q_2+2(1 - q_1 - q_2) = q_1+4q_2+6(1 - q_1 - q_2) = 6q_2+8(1 - q_1 - q_2)$\n",
    "\n",
    "$\\begin{cases}\n",
    "-6q_1 - q_2 + 4 = 0 \\\\\n",
    "-9q_1 - 5q_2 + 6 = 0 \\\\\n",
    "q_1 + q_2 + q_3 = 1\n",
    "\\end{cases}$\n",
    "\n",
    "$\\begin{cases}\n",
    "q_1 = 2/3 \\\\\n",
    "q_2 = 0 \\\\\n",
    "q_3 = 1/3\n",
    "\\end{cases}$\n",
    "\n",
    "but p and q must be from 0 to 1, so simething get wrong either in the task or in our understanding of the problem"
   ]
  },
  {
   "cell_type": "markdown",
   "metadata": {},
   "source": [
    "Fortunately, we can use iterated elimination of strictly dominated\n",
    "strategies (IESDS) to simplify the game. [[Ref](http://faculty.haas.berkeley.edu/stadelis/Game%20Theory/econ160_sect2a.pdf)]<br>\n",
    "$Col_3 \\geq Col_2 $<br>\n",
    "$\\begin{pmatrix}\n",
    "(4,3) & (6,2)\\\\\n",
    "(2,1) & (3,6)\\\\\n",
    "(3,0) & (2,8)\\\\\n",
    "\\end{pmatrix}$<br>\n",
    "\n",
    "$ Row_1 \\geq Row_2 $\n",
    "\n",
    "$\\begin{pmatrix}\n",
    "(4,3) & (6,2)\\\\\n",
    "(3,0) & (2,8)\\\\\n",
    "\\end{pmatrix}$<br>"
   ]
  },
  {
   "cell_type": "markdown",
   "metadata": {},
   "source": [
    "Variant(2)\n",
    "for a row player - let me introduce $p_1, 1 - p_1$ as probabilities of choice each strategy. Than we can get followint equality system by pairwise substructions of next eq <br><br>\n",
    "\n",
    "$3p = 2p + 8(1-p)$\n",
    "\n",
    "$p = \\frac{8}{9}$\n",
    "\n",
    "for now everything is ok\n",
    "\n",
    "for a column player - let me introduce $q_1, 1-q_1$ as probabilities of choice each strategy. Than we can get followint equality system by pairwise substructions of next eq <br><br>\n",
    "\n",
    "$ q = 4/3 $\n",
    "\n",
    "$ 1 - q = -1/3 $\n",
    "\n",
    "here we can see the same, probabilities are out of range."
   ]
  },
  {
   "cell_type": "markdown",
   "metadata": {},
   "source": [
    "## Task 2\n",
    "Var=7"
   ]
  },
  {
   "cell_type": "markdown",
   "metadata": {},
   "source": [
    "### Cournot competition\n",
    "$ p1, p2 - prices $<br>\n",
    "$ C_1, C_2 - costs $<br>\n",
    "$ \\Pi_1, \\Pi_2 - profits $<br>\n",
    "$ x_1, x_2 - strategies $<br>\n",
    "\n",
    "<br>\n",
    "Inverse demand function: <br>\n",
    "$P = 16 - 2(x_1 + x_2)$ <br>\n",
    "Costs: <br>\n",
    "$C_1 = 5x_1$ <br>\n",
    "$C_2 = 7x_2$ <br>"
   ]
  },
  {
   "cell_type": "markdown",
   "metadata": {},
   "source": [
    "Solution: <br>\n",
    "\n",
    "$ x_2 = b_2(x_1) $<br>\n",
    "\n",
    "For the first player:<br>\n",
    "\n",
    "$\\Pi_1  = Px_1 - C_1 = (P - 5)x_1 = (11 - 2x_1 - 2x_2)x_1$<br>\n",
    "\n",
    "$\\frac{\\partial \\Pi_1}{\\partial x_1} = 11 - 4x_1 - 2x_2$<br>\n",
    "\n",
    "$\\Pi_1 \\to max \\implies \\frac{\\partial \\Pi_{1}}{\\partial x_{1}} = 0 \\implies 11 - 4x_1 - 2x_2 = 0 \\implies x_{1} = b_1(x_2) = \\frac{11-2x_2}{4}$\n",
    "\n",
    "For the second player:\n",
    "\n",
    "\n",
    "$\\Pi_2  = Px_2 - C_2 = (P - 7)x_2 = (9 - 2x_1 - 2x_2)x_2$<br>\n",
    "\n",
    "$\\frac{\\partial \\Pi_2}{\\partial x_2} = 9 - 2x_1 - 4x_2$<br>\n",
    "\n",
    "$\\Pi_2 \\to max \\implies \\frac{\\partial \\Pi_2}{\\partial x_2} = 0 \\implies 9 - 2x_1 - 4x_2 = 0 \\implies x_2 = b_2(x_1) = \\frac{9-2x_1}{4}$\n",
    "\n",
    "Nash equilibrium: <br>\n",
    "$ \\begin{cases} \n",
    "x_1 = b_1{(x_2)} \\\\ \n",
    "x_2 = b_2{(x_1)}  \n",
    "\\end{cases}$ <br>\n",
    "\n",
    "$\\begin{cases} \n",
    "x_1 = \\frac{11-2x_2}{4} \\\\ \n",
    "x_2 = \\frac{9-2x_1}{4}\n",
    "\\end{cases}$\n",
    "\n",
    "$\\begin{cases} \n",
    "4x_1 + 2x_2 = 11 \\\\ \n",
    "2x_1 + 4x_2 = 9\n",
    "\\end{cases}$\n",
    "\n",
    "\n",
    "$\\begin{cases} \n",
    "x_1 = \\frac{13}{6} \\\\\n",
    "x_2 = \\frac{7}{6}\n",
    "\\end{cases}$\n",
    "\n",
    "$P = 16 - \\frac{20}{3} = \\frac{28}{3}$<br>\n",
    "\n",
    "$\\Pi_1 = (\\frac{28}{3} - 5) * \\frac{13}{6} = \\frac{169}{18}$<br>\n",
    "\n",
    "$\\Pi_2 = (\\frac{28}{3} - 7) * \\frac{7}{6} = \\frac{49}{18}$<br>\n",
    "\n",
    "Stackelberg equilibrium: <br>\n",
    "If players can move one by one, not simultaneously, So we know that second player wil choose exactly the best strategy, if first player have first movement:\n",
    "\n",
    "$\n",
    "\\begin{cases} \n",
    "x_2 = b_2(x_1) \\\\ \n",
    "\\Pi_1 = Px_1 - C_1 = (11 - 2x_1 - 2x_2)x_1\n",
    "\\end{cases}\n",
    "$\n",
    "\n",
    "$\n",
    "\\Pi_1 = (11 - 2x_1 - 2b_2(x_1))x_1 = (11 - 2x_1 - \\frac{9-2x_1}{2})x_1 = (6.5 - 3x_1)x_1\\\\\\\\\n",
    "\\Pi_1 \\to max \\implies \\frac{\\partial \\Pi_1}{\\partial x_{1}} = 0 \\implies 6.5 - 6x_1 = 0 \\implies x_1 = \\frac{13}{12}\\\\\\\\\n",
    "$\n",
    "\n",
    "$\n",
    "\\begin{cases} \n",
    "x_1 = \\frac{13}{12}\\\\\n",
    "x_2 = \\frac{9-2x_1}{4} = \\frac{41}{24}\\\\\n",
    "P = 10.41\\\\\n",
    "\\Pi_1 = 5.86\\\\\n",
    "\\Pi_2 = 5.83\\\\\n",
    "\\end{cases}\n",
    "$ \n",
    "\n",
    "if second player have first movement:\n",
    "\n",
    "$\n",
    "\\begin{cases} \n",
    "x_1 = b_1(x_2) \\\\ \n",
    "\\Pi_2 = Px_2 - C_2 = (11 - 2x_1 - 2x_2)x_2\n",
    "\\end{cases}\n",
    "$\n",
    "\n",
    "$\n",
    "\\Pi_2 = (11 - 2b_1(x_2) - 2x_2)x_2 = (11 - \\frac{11 - 2x_2}{2} - 2x_2)x_2 = (5.5 - 3x_2)x_2\\\\\\\\\n",
    "\\Pi_2 \\to max \\implies \\frac{\\partial \\Pi_2}{\\partial x_2} = 0 \\implies 5.5 - 6x_2 = 0 \\implies x_2 = \\frac{11}{12}\\\\\\\\\n",
    "$\n",
    "\n",
    "$\n",
    "\\begin{cases} \n",
    "x_1 = \\frac{11}{12}\\\\\n",
    "x_2 = \\frac{11-2x_1}{4} = \\frac{55}{24}\\\\\n",
    "P = 9.58\\\\\n",
    "\\Pi_1 = 3,92\\\\\n",
    "\\Pi_2 = 5.92\\\\\n",
    "\\end{cases}\n",
    "$ "
   ]
  },
  {
   "cell_type": "markdown",
   "metadata": {},
   "source": [
    "### Bertrand competition\n",
    "$p_{1}, p_{2} - prices\\\\\n",
    "x_{1}, x_{2} - amount(\"demand\")\\\\\n",
    "C_{1}, C_{2} - costs\\\\\n",
    "\\Pi_{1}, \\Pi_{2} - profit$\n",
    "\n",
    "Functions<br>\n",
    "$x_1 = 9 - p_1 + p_2$ <br>\n",
    "$x_2 = 6 - p_2 + 2p_1$ <br>\n",
    "$C_1 = 4x_1$ <br>\n",
    "$C_2 = 2x_2$ <br>"
   ]
  },
  {
   "cell_type": "markdown",
   "metadata": {},
   "source": [
    "Nash equilibrium:\n",
    "\n",
    "For the first player:<br>\n",
    "$ p_1 = b_1(p_2) $<br>\n",
    "\n",
    "$ \\Pi_1 \\to max $<br>\n",
    "\n",
    "$ \\Pi_1 = (p_1x_1 - C_1) = x_1(p_1 - 4) = (p_1 - 4)(9 - p_1 + p_2)$<br>\n",
    "\n",
    "$\\frac{\\partial \\Pi_{2}}{\\partial p_1} = -23 - 2p_1 + 4p_2 $<br>\n",
    "\n",
    "$-23 - 2p_1 + 4p_2 = 0, p_1 = b_1(p_1) = \\frac{4p_2 - 23}{2} $<br>\n",
    "\n",
    " \n",
    "\n",
    "For the second player:<br>\n",
    "$ p_2 = b_2(p_1) $<br>\n",
    "\n",
    "$ \\Pi_2 \\to max $<br>\n",
    "\n",
    "$ \\Pi_2 = (p_2x_2 - C_2) = x_2(p_2 - 2) = (p_2 - 2)(6 - p_2 + 2p_1) $<br>\n",
    "\n",
    "$ \\frac{\\partial \\Pi_{2}}{\\partial p_2} = -4-2p_2-2p_1 $<br>\n",
    "\n",
    "$-4-2p_2-2p_1 = 0, p_2 = b_2(p_1) = p_1 - 2$<br>\n",
    "\n",
    " "
   ]
  },
  {
   "cell_type": "markdown",
   "metadata": {},
   "source": [
    "$\\begin{cases} p_{1} = b_1{(p_{2})} \\\\ p_{2} = b_2{(p_1)}  \\end{cases}$\n",
    "\n",
    "$\\begin{cases} \n",
    "p_{1} = \\frac{4p_{2} - 23}{2} \\\\ \n",
    "p_{2} = p_1 - 2  \n",
    "\\end{cases}$\n",
    "\n",
    "$\\begin{cases} \n",
    "p_1 = 15.5\\\\\n",
    "p_2 = 13.5\n",
    "\\end{cases}$\n",
    "\n",
    "$\\begin{cases} \n",
    "x_1 = 7\\\\\n",
    "x_2 = 23.5\\\\\n",
    "\\Pi_1 = 80.5\\\\\n",
    "\\Pi_2 = 270.25\n",
    "\\end{cases}$\n",
    "\n",
    "The equilibrium is for 7 and 23.5 for each of players."
   ]
  },
  {
   "cell_type": "markdown",
   "metadata": {},
   "source": [
    "Stackelberg equilibrium:<br>\n",
    "If players can move one by one, not simultaneously, So we know that second player will choose exactly the best strategy, if first player have first movement:\n",
    "\n",
    "$\\begin{cases}\n",
    "p_{2} = b_2{(p_{1})} \\\\\n",
    "\\Pi_{1} = p_{1}x_{1} - C_{1} = (p_1-4)(9 - p_{1} + p_{2})\n",
    "\\end{cases}$\n",
    "\n",
    "$\\Pi_{1} = (p_1-4)(9 - p_{1} + b_2(p_1)) = (p_1 - 4)(9 - p_1 + p_1 - 2) = 7p_1 - 28; $<br>\n",
    "$\\Pi_1 \\to max \\implies \\frac{\\partial \\Pi_1}{\\partial p_1} = 0; 7 \\neq 28$<br>\n",
    "\n",
    "So there is no Stackelberg equilibrium\n",
    "\n",
    "if the second player have first movement:\n",
    "\n",
    "$\\begin{cases}\n",
    "p_1 = b_1{(p_{2})} \\\\\n",
    "\\Pi_{2} = p_2x_2 - C_2 = (p_2-2)(6 - p_2 + 2p_1)\n",
    "\\end{cases}$\n",
    "\n",
    "$\\Pi_2 = (p_2-2)(6 - p_2 + 2b_1(p_2)) = 3{p_2}^2 - 23p_2 + 34  $<br>\n",
    "$\\Pi_2 \\to max \\implies \\frac{\\partial \\Pi_2}{\\partial p_2} = 0;$<br>\n",
    "$ p_2 = \\frac{11}{6} = 1.8(3)$<br>\n",
    "\n",
    "than <br>\n",
    "\n",
    "$ p_1 = 15.1(6) $<br>\n",
    "$ \\Pi_1 = 78.12 $<br>\n",
    "$ \\Pi_2 = 1.96 $<br>\n",
    "\n",
    "\n",
    "if the second player will make first step, the eq is 1.8 for first and 15.1 for second"
   ]
  },
  {
   "cell_type": "markdown",
   "metadata": {},
   "source": [
    "## Task 3"
   ]
  },
  {
   "cell_type": "markdown",
   "metadata": {},
   "source": [
    "Regression task"
   ]
  },
  {
   "cell_type": "code",
   "execution_count": null,
   "metadata": {},
   "outputs": [],
   "source": [
    "import shap\n",
    "import sklearn"
   ]
  },
  {
   "cell_type": "code",
   "execution_count": null,
   "metadata": {},
   "outputs": [],
   "source": [
    "# a classic adult census dataset price dataset\n",
    "X_adult,y_adult = shap.datasets.adult()\n",
    "\n",
    "# a simple linear logistic model\n",
    "model_adult = sklearn.linear_model.LogisticRegression(max_iter=1000)\n",
    "model_adult.fit(X_adult, y_adult)\n",
    "\n",
    "def model_adult_proba(x):\n",
    "    return model_adult.predict_proba(x)[:,1]\n",
    "def model_adult_log_odds(x):\n",
    "    p = model_adult.predict_log_proba(x)\n",
    "    return p[:,1] - p[:,0]"
   ]
  },
  {
   "cell_type": "code",
   "execution_count": null,
   "metadata": {},
   "outputs": [],
   "source": [
    "sample_ind = 18\n",
    "fig,ax = shap.partial_dependence_plot(\"Capital Gain\", model_adult_proba, X_adult, model_expected_value=True, feature_expected_value=True, show=False, ice=False)\n",
    "background_adult = shap.maskers.Independent(X_adult, max_samples=1000)\n",
    "explainer = shap.Explainer(model_adult_proba, background_adult)\n",
    "shap_values_adult = explainer(X_adult[:1000])"
   ]
  },
  {
   "cell_type": "code",
   "execution_count": null,
   "metadata": {},
   "outputs": [],
   "source": [
    "shap.plots.scatter(shap_values_adult[:,\"Age\"])"
   ]
  },
  {
   "cell_type": "code",
   "execution_count": null,
   "metadata": {},
   "outputs": [],
   "source": [
    "shap.plots.scatter(shap_values_adult[:,\"Occupation\"])"
   ]
  },
  {
   "cell_type": "code",
   "execution_count": null,
   "metadata": {},
   "outputs": [],
   "source": [
    "shap.plots.scatter(shap_values_adult[:,\"Education-Num\"])"
   ]
  },
  {
   "cell_type": "code",
   "execution_count": null,
   "metadata": {},
   "outputs": [],
   "source": [
    "shap.plots.beeswarm(shap_values_adult)"
   ]
  },
  {
   "cell_type": "code",
   "execution_count": null,
   "metadata": {},
   "outputs": [],
   "source": [
    "shap.plots.heatmap(shap_values_adult[:1000])"
   ]
  },
  {
   "cell_type": "markdown",
   "metadata": {},
   "source": [
    "very logical results - people are in relationship after 18 more, than before. the same about education, because we have to study up to 18 years old, and after that almost every person have education. "
   ]
  },
  {
   "cell_type": "markdown",
   "metadata": {},
   "source": [
    "## Task 4"
   ]
  },
  {
   "cell_type": "markdown",
   "metadata": {},
   "source": [
    "the text clacification task.."
   ]
  },
  {
   "cell_type": "code",
   "execution_count": null,
   "metadata": {},
   "outputs": [],
   "source": [
    "import sklearn\n",
    "from sklearn.feature_extraction.text import TfidfVectorizer\n",
    "from sklearn.model_selection import train_test_split\n",
    "shap.initjs()\n",
    "corpus,y = shap.datasets.imdb()\n",
    "corpus_train, corpus_test, y_train, y_test = train_test_split(corpus, y, test_size=0.2, random_state=7)\n",
    "\n",
    "vectorizer = TfidfVectorizer(min_df=10)\n",
    "X_train = vectorizer.fit_transform(corpus_train)\n",
    "X_test = vectorizer.transform(corpus_test)\n",
    "model = sklearn.linear_model.LogisticRegression(penalty=\"l2\", C=0.1)\n",
    "model.fit(X_train, y_train)\n",
    "explainer = shap.LinearExplainer(model, X_train, feature_dependence=\"independent\")\n",
    "shap_values = explainer.shap_values(X_test)\n",
    "X_test_array = X_test.toarray()"
   ]
  },
  {
   "cell_type": "code",
   "execution_count": null,
   "metadata": {},
   "outputs": [],
   "source": [
    "shap.summary_plot(shap_values, X_test_array, feature_names=vectorizer.get_feature_names())"
   ]
  },
  {
   "cell_type": "markdown",
   "metadata": {},
   "source": [
    "Easy to see that words with bed meaning, such as (bad, worst, no, even) have more influence in bed reviews, and vise versa - words such as (great, very, best) have more impact in good reviews, if the review have more such words, then it more possible is good."
   ]
  },
  {
   "cell_type": "markdown",
   "metadata": {},
   "source": [
    "for example, let's check 46th review to deside is it good or bad"
   ]
  },
  {
   "cell_type": "code",
   "execution_count": null,
   "metadata": {},
   "outputs": [],
   "source": [
    "ind = 46\n",
    "shap.force_plot(\n",
    "    explainer.expected_value, shap_values[ind,:], X_test_array[ind,:],\n",
    "    feature_names=vectorizer.get_feature_names()\n",
    ")"
   ]
  },
  {
   "cell_type": "markdown",
   "metadata": {},
   "source": [
    "the model sad that it is positive a little bit more probably, than negative. What is more, it shows, why (there is such words as favorite). we can check this:"
   ]
  },
  {
   "cell_type": "code",
   "execution_count": null,
   "metadata": {},
   "outputs": [],
   "source": [
    "print(\"Positive\" if y_test[ind] else \"Negative\", \"Review:\")\n",
    "print(corpus_test[ind])"
   ]
  },
  {
   "cell_type": "markdown",
   "metadata": {},
   "source": [
    "It is really something in the middle, but more positive, then negative."
   ]
  }
 ],
 "metadata": {
  "kernelspec": {
   "display_name": "Python 3",
   "language": "python",
   "name": "python3"
  },
  "language_info": {
   "codemirror_mode": {
    "name": "ipython",
    "version": 3
   },
   "file_extension": ".py",
   "mimetype": "text/x-python",
   "name": "python",
   "nbconvert_exporter": "python",
   "pygments_lexer": "ipython3",
   "version": "3.8.6"
  }
 },
 "nbformat": 4,
 "nbformat_minor": 4
}
