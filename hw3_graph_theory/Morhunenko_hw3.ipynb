{
 "cells": [
  {
   "cell_type": "markdown",
   "metadata": {},
   "source": [
    "# Morhunenko Mykola Homework 3"
   ]
  },
  {
   "cell_type": "markdown",
   "metadata": {},
   "source": [
    "# Toronto"
   ]
  },
  {
   "cell_type": "code",
   "execution_count": null,
   "metadata": {},
   "outputs": [],
   "source": [
    "import timeit\n",
    "\n",
    "import numpy as np\n",
    "import osmnx as ox\n",
    "import networkx as nx\n",
    "import random\n",
    "import pulp as pl"
   ]
  },
  {
   "cell_type": "markdown",
   "metadata": {},
   "source": [
    "### Building osmnx \"driving\" graph for Toronto"
   ]
  },
  {
   "cell_type": "code",
   "execution_count": null,
   "metadata": {},
   "outputs": [],
   "source": [
    "G_toronto_drive = ox.graph_from_place('Toronto, Canada', network_type='drive')"
   ]
  },
  {
   "cell_type": "code",
   "execution_count": null,
   "metadata": {},
   "outputs": [],
   "source": [
    "print('Number of nodes: {}'.format(G_toronto_drive.number_of_nodes()))\n",
    "print('Number of edges: {}'.format(G_toronto_drive.number_of_edges()))"
   ]
  },
  {
   "cell_type": "markdown",
   "metadata": {},
   "source": [
    "### One-way vs Two-way roads distribution"
   ]
  },
  {
   "cell_type": "code",
   "execution_count": null,
   "metadata": {},
   "outputs": [],
   "source": [
    "# Red color represents one-way roads and blue represents two-way roads\n",
    "ec = ['r' if data['oneway'] else 'b' for u, v, key, data in G_toronto_drive.edges(keys=True, data=True)]\n",
    "ox.plot_graph(G_toronto_drive, edge_color=ec, node_size=0);"
   ]
  },
  {
   "cell_type": "markdown",
   "metadata": {},
   "source": [
    "### The 11th element is center (start and finish)"
   ]
  },
  {
   "cell_type": "code",
   "execution_count": null,
   "metadata": {},
   "outputs": [],
   "source": []
  },
  {
   "cell_type": "code",
   "execution_count": null,
   "metadata": {},
   "outputs": [],
   "source": [
    "points = np.random.choice(G_toronto_drive.nodes, 10)\n",
    "points = np.append(points, ox.get_nearest_node(G_toronto_drive, (43.718551, -79.336411), method=\"haversine\"))"
   ]
  },
  {
   "cell_type": "code",
   "execution_count": null,
   "metadata": {},
   "outputs": [],
   "source": [
    "ox.plot_graph(G_toronto_drive, node_size=[50 if data in points else 0 for data in G_toronto_drive.nodes()])"
   ]
  },
  {
   "cell_type": "markdown",
   "metadata": {},
   "source": [
    "### Distance matrix (distances and time)"
   ]
  },
  {
   "cell_type": "code",
   "execution_count": null,
   "metadata": {},
   "outputs": [],
   "source": [
    "distance_routs_matrix = []\n",
    "for i in points:\n",
    "    for j in points:\n",
    "        distance_routs_matrix.append(nx.shortest_path(G_toronto_drive, i, j, weight='length', method='dijkstra'))"
   ]
  },
  {
   "cell_type": "code",
   "execution_count": null,
   "metadata": {},
   "outputs": [],
   "source": [
    "ox.plot_graph_routes(G_toronto_drive, distance_routs_matrix, route_linewidth=2, node_size = [200 if data in points else 0 for data in G_toronto_drive.nodes()])"
   ]
  },
  {
   "cell_type": "code",
   "execution_count": null,
   "metadata": {},
   "outputs": [],
   "source": [
    "ox.speed.add_edge_speeds(G_toronto_drive, fallback=50)\n",
    "ox.speed.add_edge_travel_times(G_toronto_drive)"
   ]
  },
  {
   "cell_type": "code",
   "execution_count": null,
   "metadata": {},
   "outputs": [],
   "source": [
    "time_routs_matrix = []\n",
    "\n",
    "for i in range(11):\n",
    "    for j in range(11):\n",
    "        time_routs_matrix.append(nx.shortest_path(G_toronto_drive, points[i], points[j], weight='time', method='dijkstra'))"
   ]
  },
  {
   "cell_type": "code",
   "execution_count": null,
   "metadata": {},
   "outputs": [],
   "source": [
    "ox.plot_graph_routes(G_toronto_drive, time_routs_matrix, route_linewidth=2, node_size = [200 if data in points else 0 for data in G_toronto_drive.nodes()])"
   ]
  },
  {
   "cell_type": "code",
   "execution_count": null,
   "metadata": {},
   "outputs": [],
   "source": [
    "distances = []\n",
    "for el in time_routs_matrix:\n",
    "    d = 0;\n",
    "    for ed in ox.utils_graph.get_route_edge_attributes(G_toronto_drive, el):\n",
    "        d += ed[\"length\"]\n",
    "    else:\n",
    "        distances.append(d)"
   ]
  },
  {
   "cell_type": "markdown",
   "metadata": {},
   "source": [
    "### Travelling salesman problem"
   ]
  },
  {
   "cell_type": "code",
   "execution_count": null,
   "metadata": {},
   "outputs": [],
   "source": [
    "m = pl.LpProblem('TSP', pl.LpMinimize)"
   ]
  },
  {
   "cell_type": "code",
   "execution_count": null,
   "metadata": {},
   "outputs": [],
   "source": [
    "len(distances)"
   ]
  },
  {
   "cell_type": "code",
   "execution_count": null,
   "metadata": {},
   "outputs": [],
   "source": [
    "x = {}\n",
    "for i in range(11):\n",
    "    for j in range(11):\n",
    "        lowerBound = 0\n",
    "        upperBound = 1\n",
    "\n",
    "        # Forbid loops\n",
    "        if i == j:\n",
    "            upperBound = 0\n",
    "            # print i,i\n",
    "\n",
    "        # Create the decision variable and First constraint\n",
    "        x[i,j] = pl.LpVariable('x' + str(i) + '_' + str(j), lowerBound, upperBound, pl.LpBinary)\n",
    "        \n",
    "m += pl.lpSum([distances[i*11+j] * x[i,j] for i in range(11) for j in range(11)])\n",
    "\n",
    "for i in range(11):\n",
    "    m += pl.lpSum([x[i,j] for j in range(11)]) == 1\n",
    "\n",
    "for j in range(11):\n",
    "    m += pl.lpSum([x[i,j] for i in range(11)]) == 1"
   ]
  },
  {
   "cell_type": "code",
   "execution_count": null,
   "metadata": {},
   "outputs": [],
   "source": [
    "u = []\n",
    "\n",
    "for i in range(0, 11):\n",
    "    u.append(pl.LpVariable('u_' + str(i), cat='Integer'))\n",
    "    \n",
    "for i in range(0, 11):\n",
    "    for j in range(i+1, 11):\n",
    "        m += pl.lpSum([u[i] - u[j] + 10*x[i,j]]) <= 10\n"
   ]
  },
  {
   "cell_type": "code",
   "execution_count": null,
   "metadata": {},
   "outputs": [],
   "source": [
    "st = m.solve()"
   ]
  },
  {
   "cell_type": "code",
   "execution_count": null,
   "metadata": {},
   "outputs": [],
   "source": [
    "print(pl.LpStatus[st])"
   ]
  },
  {
   "cell_type": "code",
   "execution_count": null,
   "metadata": {},
   "outputs": [],
   "source": [
    "for i in range(11):\n",
    "    for j in range(11):\n",
    "#         print(pl.value(x[i,j]))\n",
    "        if (pl.value(x[i,j]) is not None) and pl.value(x[i,j]) >0:\n",
    "            print (\"x_\" + str(i) + ',' + str(j) + ' : ' + str( pl.value(x[i,j]) ))\n"
   ]
  },
  {
   "cell_type": "markdown",
   "metadata": {},
   "source": [
    "##### It doesn't work yet but I don't know how to fix it, I spent on it more then two days =("
   ]
  }
 ],
 "metadata": {
  "kernelspec": {
   "display_name": "Python 3",
   "language": "python",
   "name": "python3"
  },
  "language_info": {
   "codemirror_mode": {
    "name": "ipython",
    "version": 3
   },
   "file_extension": ".py",
   "mimetype": "text/x-python",
   "name": "python",
   "nbconvert_exporter": "python",
   "pygments_lexer": "ipython3",
   "version": "3.8.6"
  }
 },
 "nbformat": 4,
 "nbformat_minor": 4
}
