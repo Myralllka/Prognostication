{
 "cells": [
  {
   "cell_type": "markdown",
   "metadata": {},
   "source": [
    "# Morhunenko Mykola\n",
    "## hw 5 \n",
    "### #number = 10"
   ]
  },
  {
   "cell_type": "code",
   "execution_count": null,
   "metadata": {},
   "outputs": [],
   "source": [
    "from scipy.stats import truncnorm\n",
    "import matplotlib.pyplot as plt\n",
    "import scipy\n",
    "import numpy"
   ]
  },
  {
   "cell_type": "markdown",
   "metadata": {},
   "source": []
  },
  {
   "cell_type": "code",
   "execution_count": null,
   "metadata": {},
   "outputs": [],
   "source": [
    "S = 10\n",
    "a = eval(\"111*#student, 73*#student, 57*#student, 106*#student, 134*#student, 265*#student, 295*#student, 89*#student, 71*#student, 119*#student, 52*#student, 63*#student, 212*#student, 106*#student, 29*#student, 217*#student, 172*#student, 84*#student, 131*#student\".replace(\"#student\", \"S\"))\n",
    "a = numpy.array(a)\n",
    "shape, loc, scale = scipy.stats.lognorm.fit(a)\n",
    "scipy.stats.probplot(a, dist=scipy.stats.lognorm(shape,loc,scale),  plot=plt.figure().add_subplot(111))"
   ]
  },
  {
   "cell_type": "markdown",
   "metadata": {},
   "source": [
    "as far as there is one more mistake in a task:<br>\n",
    "Truncated normal 𝒩(3*(#student+1), `here missing multiplier` *(#student+1 ) on [3*(#student+1, +∞]<br>\n",
    "let it be `#student` <br>"
   ]
  },
  {
   "cell_type": "markdown",
   "metadata": {},
   "source": [
    "using median for each uncertain parameter"
   ]
  },
  {
   "cell_type": "code",
   "execution_count": null,
   "metadata": {},
   "outputs": [],
   "source": [
    "zv_median = numpy.median(numpy.array([numpy.random.triangular(49, 50, 51) for i in range(1000)]))\n",
    "zm_median = numpy.median(numpy.array([numpy.random.triangular(54, 55, 56) for i in range(1000)]))\n",
    "q_median = numpy.median(numpy.array([scipy.stats.lognorm(shape,loc,scale).rvs() for i in range(1000)]))\n",
    "ks_median = numpy.median(numpy.array([max(truncnorm(33, 110).rvs(), 33) for i in range(1000)]))\n",
    "\n",
    "L = 500*S\n",
    "B = 30*S\n",
    "\n",
    "Zc = (q_median / (ks_median * B * numpy.sqrt((zm_median -zv_median)/L)))**(3/5)"
   ]
  },
  {
   "cell_type": "code",
   "execution_count": null,
   "metadata": {},
   "outputs": [],
   "source": [
    "Zc "
   ]
  },
  {
   "cell_type": "code",
   "execution_count": null,
   "metadata": {},
   "outputs": [],
   "source": [
    "# Q = scipy.stats.lognorm(shape,loc,scale).rvs()\n",
    "# Ks = max(truncnorm(33, 110).rvs(), 33)\n",
    "# Zv = numpy.random.triangular(49, 50, 51)\n",
    "# Zm = numpy.random.triangular(54, 55, 56)"
   ]
  },
  {
   "cell_type": "code",
   "execution_count": null,
   "metadata": {},
   "outputs": [],
   "source": [
    "Zc_arr = [(scipy.stats.lognorm(shape,loc,scale).rvs() / (max(truncnorm(33, 110).rvs(), 33) * B * numpy.sqrt((numpy.random.triangular(54, 55, 56) -numpy.random.triangular(49, 50, 51))/L)))**(3/5) for i in range(10000)]"
   ]
  },
  {
   "cell_type": "code",
   "execution_count": null,
   "metadata": {},
   "outputs": [],
   "source": [
    "plt.hist(Zc_arr)"
   ]
  },
  {
   "cell_type": "code",
   "execution_count": null,
   "metadata": {},
   "outputs": [],
   "source": [
    "numpy.percentile(Zc_arr, 99)"
   ]
  },
  {
   "cell_type": "markdown",
   "metadata": {},
   "source": [
    "So the 100-year flood level for this river is 4.681."
   ]
  }
 ],
 "metadata": {
  "kernelspec": {
   "display_name": "Python 3",
   "language": "python",
   "name": "python3"
  },
  "language_info": {
   "codemirror_mode": {
    "name": "ipython",
    "version": 3
   },
   "file_extension": ".py",
   "mimetype": "text/x-python",
   "name": "python",
   "nbconvert_exporter": "python",
   "pygments_lexer": "ipython3",
   "version": "3.8.6"
  }
 },
 "nbformat": 4,
 "nbformat_minor": 4
}
